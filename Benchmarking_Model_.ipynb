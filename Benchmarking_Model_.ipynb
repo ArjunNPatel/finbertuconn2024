{
  "cells": [
    {
      "cell_type": "markdown",
      "metadata": {
        "id": "view-in-github",
        "colab_type": "text"
      },
      "source": [
        "<a href=\"https://colab.research.google.com/github/ArjunNPatel/finbertuconn2024/blob/main/Benchmarking_Model_.ipynb\" target=\"_parent\"><img src=\"https://colab.research.google.com/assets/colab-badge.svg\" alt=\"Open In Colab\"/></a>"
      ]
    },
    {
      "cell_type": "code",
      "execution_count": null,
      "metadata": {
        "id": "BCeFoefbbFKb",
        "collapsed": true
      },
      "outputs": [],
      "source": [
        "!pip install transformers --quiet\n",
        "!pip install torch --quiet\n",
        "!pip install tqdm boto3 requests regex sentencepiece sacremoses --quiet\n",
        "import numpy as np\n",
        "from transformers import BertTokenizer, AutoModelForSequenceClassification, pipeline\n",
        "import torch\n",
        "import torch.nn as nn\n",
        "import tqdm, boto3, requests, regex, sentencepiece, sacremoses\n",
        "\n"
      ]
    },
    {
      "cell_type": "code",
      "execution_count": null,
      "metadata": {
        "id": "uNpBsw31kogQ"
      },
      "outputs": [],
      "source": [
        "!pip install huggingface_hub --quiet\n",
        "from huggingface_hub import PyTorchModelHubMixin\n",
        "\n",
        "tokenizer = torch.hub.load('huggingface/pytorch-transformers', 'tokenizer', 'yiyanghkust/finbert-tone')\n",
        "class BertForSequenceClassification(nn.Module, PyTorchModelHubMixin):\n",
        "    def __init__(self, pretrained_model_name, num_labels=3):\n",
        "        super(BertForSequenceClassification, self).__init__()\n",
        "        self.num_labels = num_labels\n",
        "        self.bert = torch.hub.load('huggingface/pytorch-transformers', 'model', pretrained_model_name)\n",
        "        self.tokenizer = tokenizer\n",
        "        self.loss_fn = nn.CrossEntropyLoss()\n",
        "        self.dropout = nn.Dropout()\n",
        "        self.fc1 = nn.Linear(self.bert.config.hidden_size, 128)\n",
        "        self.finaloutput = nn.Linear(128, num_labels)\n",
        "        self.softmaxlayer = nn.Softmax(dim=1)\n",
        "\n",
        "    def forward(self, input_ids, attention_mask, labels = None, *args, **kwargs):\n",
        "        #print(kwargs)\n",
        "        #print(args)\n",
        "        outputs = self.bert(input_ids = input_ids, attention_mask = attention_mask)\n",
        "        pooled_output = outputs.pooler_output\n",
        "        pooled_output = self.dropout(pooled_output)\n",
        "        fc1_output = nn.functional.relu(self.fc1(pooled_output))\n",
        "        logits = self.finaloutput(fc1_output)\n",
        "        logits = self.softmaxlayer(logits)\n",
        "        loss = None\n",
        "        if labels is not None:\n",
        "          loss = self.loss_fn(logits.view(-1, self.num_labels), labels.view(-1))\n",
        "        return {\"logits\":logits,\n",
        "                \"loss\": loss\n",
        "                }\n",
        "\n",
        "def tokenize_function(examples):\n",
        "     return tokenizer(examples[\"text\"], padding = \"max_length\", truncation=True, max_length=128, return_tensors = \"pt\")\n",
        "\n",
        "model = BertForSequenceClassification.from_pretrained(\"ANP1/finbert-tone-v0\")"
      ]
    },
    {
      "cell_type": "code",
      "source": [
        "myinputs = [\"we don't expect a lot\",\n",
        "            \"growth is strong and will continue to be\",\n",
        "            \"the CEO had a meeting\",\n",
        "            \"stock market meltdown\"]\n",
        "outputs = tokenizer(myinputs, return_tensors = 'pt', padding = \"max_length\", truncation=True, max_length=128)\n",
        "outputs = model(**outputs)[\"logits\"].detach().numpy()\n",
        "\n",
        "def score(logit):\n",
        "  return logit[0]*-1 + logit[1]*0 + logit[2]*1\n",
        "def magnitude(logit):\n",
        "  return 1.5*np.amax(logit) - 0.5\n",
        "\n",
        "for i in range(len(myinputs)):\n",
        "  logit = outputs[i,:]\n",
        "  print(myinputs[i], score(logit),magnitude(logit))"
      ],
      "metadata": {
        "colab": {
          "base_uri": "https://localhost:8080/"
        },
        "id": "6BaivcWv1rq4",
        "outputId": "ee4848c7-00e4-4cb0-f599-054d31f1e119"
      },
      "execution_count": 8,
      "outputs": [
        {
          "output_type": "stream",
          "name": "stdout",
          "text": [
            "we don't expect a lot -0.11002052575349808 0.6259264349937439\n",
            "growth is strong and will continue to be 0.5824856609106064 0.6269700825214386\n",
            "the CEO had a meeting -0.0010115168988704681 0.8955188393592834\n",
            "stock market meltdown -0.18174418807029724 0.3567809760570526\n"
          ]
        }
      ]
    },
    {
      "cell_type": "markdown",
      "metadata": {
        "id": "dr8ocnuZlA-8"
      },
      "source": []
    }
  ],
  "metadata": {
    "colab": {
      "provenance": [],
      "authorship_tag": "ABX9TyMNWmEUaGYcv3Og7BkRfSP8",
      "include_colab_link": true
    },
    "kernelspec": {
      "display_name": "Python 3",
      "name": "python3"
    },
    "language_info": {
      "name": "python"
    }
  },
  "nbformat": 4,
  "nbformat_minor": 0
}