{
  "cells": [
    {
      "cell_type": "markdown",
      "metadata": {
        "id": "view-in-github",
        "colab_type": "text"
      },
      "source": [
        "<a href=\"https://colab.research.google.com/github/ArjunNPatel/finbertuconn2024/blob/main/Benchmarking_Model_.ipynb\" target=\"_parent\"><img src=\"https://colab.research.google.com/assets/colab-badge.svg\" alt=\"Open In Colab\"/></a>"
      ]
    },
    {
      "cell_type": "code",
      "execution_count": null,
      "metadata": {
        "id": "BCeFoefbbFKb",
        "collapsed": true
      },
      "outputs": [],
      "source": [
        "!pip install torch --quiet\n",
        "!pip install tqdm boto3 requests regex sentencepiece sacremoses --quiet\n",
        "import numpy as np\n",
        "import torch\n",
        "import torch.nn as nn\n",
        "import tqdm, boto3, requests, regex, sentencepiece, sacremoses\n",
        "\n"
      ]
    },
    {
      "cell_type": "code",
      "execution_count": null,
      "metadata": {
        "id": "uNpBsw31kogQ",
        "collapsed": true
      },
      "outputs": [],
      "source": [
        "!pip install huggingface_hub --quiet\n",
        "from huggingface_hub import PyTorchModelHubMixin\n",
        "\n",
        "tokenizer = torch.hub.load('huggingface/pytorch-transformers', 'tokenizer', 'yiyanghkust/finbert-tone')\n",
        "class BertForSequenceClassification(nn.Module, PyTorchModelHubMixin):\n",
        "    def __init__(self, pretrained_model_name, num_labels=3):\n",
        "        super(BertForSequenceClassification, self).__init__()\n",
        "        self.num_labels = num_labels\n",
        "        self.bert = torch.hub.load('huggingface/pytorch-transformers', 'model', pretrained_model_name)\n",
        "        self.tokenizer = tokenizer\n",
        "        self.loss_fn = nn.CrossEntropyLoss()\n",
        "        self.dropout = nn.Dropout()\n",
        "        self.fc1 = nn.Linear(self.bert.config.hidden_size, 128)\n",
        "        self.finaloutput = nn.Linear(128, num_labels)\n",
        "        self.softmaxlayer = nn.Softmax(dim=1)\n",
        "\n",
        "    def forward(self, input_ids, attention_mask, labels = None, *args, **kwargs):\n",
        "        outputs = self.bert(input_ids = input_ids, attention_mask = attention_mask)\n",
        "        pooled_output = outputs.pooler_output\n",
        "        pooled_output = self.dropout(pooled_output)\n",
        "        fc1_output = nn.functional.relu(self.fc1(pooled_output))\n",
        "        logits = self.finaloutput(fc1_output)\n",
        "        logits = self.softmaxlayer(logits)\n",
        "        loss = None\n",
        "        if labels is not None:\n",
        "          loss = self.loss_fn(logits.view(-1, self.num_labels), labels.view(-1))\n",
        "        return {\"logits\":logits,\n",
        "                \"loss\": loss\n",
        "                }\n",
        "\n",
        "model = BertForSequenceClassification.from_pretrained(\"ANP1/finbert-tone-v0\")\n",
        "model.eval()"
      ]
    },
    {
      "cell_type": "code",
      "source": [
        "def score(logit):\n",
        "  return logit[0]*-1 + logit[1]*0 + logit[2]*1\n",
        "def magnitude(logit):\n",
        "  return 1.5*np.amax(logit) - 0.5\n",
        "\n",
        "def sentimentanalysis(myinputs):\n",
        "  finalresults = []\n",
        "  for i in range(len(myinputs)):\n",
        "    if type(myinputs) is str:\n",
        "      templist = []\n",
        "      templist.append(myinputs)\n",
        "      myinputs = templist\n",
        "  outputs = tokenizer(myinputs, return_tensors = 'pt', padding = \"max_length\", truncation=True, max_length=128)\n",
        "  outputs = model(**outputs)[\"logits\"].detach().numpy()\n",
        "  for i in range(len(outputs)):\n",
        "    logit = outputs[i,:]\n",
        "    finalresults.append([myinputs[i], score(logit),magnitude(logit)])\n",
        "  return finalresults\n",
        "\n",
        "myinputs = [\"we don't expect a lot\",\n",
        "            \"growth is strong and will continue to be\",\n",
        "            \"the CEO had a meeting\",\n",
        "            \"stock market meltdown\"]\n",
        "print(sentimentanalysis(myinputs))"
      ],
      "metadata": {
        "colab": {
          "base_uri": "https://localhost:8080/"
        },
        "id": "6BaivcWv1rq4",
        "outputId": "3fc3958f-9ad5-482b-b6e2-43848561ff2c"
      },
      "execution_count": 16,
      "outputs": [
        {
          "output_type": "stream",
          "name": "stdout",
          "text": [
            "[[\"we don't expect a lot\", -0.13540445640683174, 0.6687738299369812], ['growth is strong and will continue to be', 0.5903067588806152, 0.6114140748977661], ['the CEO had a meeting', -0.01894764043390751, 0.885016918182373], ['stock market meltdown', -0.22647589445114136, 0.3901960253715515]]\n"
          ]
        }
      ]
    },
    {
      "cell_type": "markdown",
      "metadata": {
        "id": "dr8ocnuZlA-8"
      },
      "source": []
    }
  ],
  "metadata": {
    "colab": {
      "provenance": [],
      "authorship_tag": "ABX9TyMpKG2tUhyDtr+VS8EO75f3",
      "include_colab_link": true
    },
    "kernelspec": {
      "display_name": "Python 3",
      "name": "python3"
    },
    "language_info": {
      "name": "python"
    }
  },
  "nbformat": 4,
  "nbformat_minor": 0
}